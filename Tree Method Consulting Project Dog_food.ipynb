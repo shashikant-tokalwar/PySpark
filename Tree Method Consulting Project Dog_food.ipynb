{
  "cells": [
    {
      "metadata": {
        "trusted": true
      },
      "cell_type": "code",
      "source": "from pyspark.sql import SparkSession",
      "execution_count": 1,
      "outputs": []
    },
    {
      "metadata": {
        "trusted": true
      },
      "cell_type": "code",
      "source": "spark = SparkSession.builder.appName('dogfood').getOrCreate()",
      "execution_count": 2,
      "outputs": []
    },
    {
      "metadata": {
        "trusted": true
      },
      "cell_type": "code",
      "source": "df = spark.read.csv('dog_food.csv',inferSchema=True,header=True)",
      "execution_count": 3,
      "outputs": []
    },
    {
      "metadata": {
        "trusted": true
      },
      "cell_type": "code",
      "source": "df.printSchema()",
      "execution_count": 4,
      "outputs": [
        {
          "output_type": "stream",
          "text": "root\n |-- A: integer (nullable = true)\n |-- B: integer (nullable = true)\n |-- C: double (nullable = true)\n |-- D: integer (nullable = true)\n |-- Spoiled: double (nullable = true)\n\n",
          "name": "stdout"
        }
      ]
    },
    {
      "metadata": {
        "trusted": true
      },
      "cell_type": "code",
      "source": "df.show()",
      "execution_count": 5,
      "outputs": [
        {
          "output_type": "stream",
          "text": "+---+---+----+---+-------+\n|  A|  B|   C|  D|Spoiled|\n+---+---+----+---+-------+\n|  4|  2|12.0|  3|    1.0|\n|  5|  6|12.0|  7|    1.0|\n|  6|  2|13.0|  6|    1.0|\n|  4|  2|12.0|  1|    1.0|\n|  4|  2|12.0|  3|    1.0|\n| 10|  3|13.0|  9|    1.0|\n|  8|  5|14.0|  5|    1.0|\n|  5|  8|12.0|  8|    1.0|\n|  6|  5|12.0|  9|    1.0|\n|  3|  3|12.0|  1|    1.0|\n|  9|  8|11.0|  3|    1.0|\n|  1| 10|12.0|  3|    1.0|\n|  1|  5|13.0| 10|    1.0|\n|  2| 10|12.0|  6|    1.0|\n|  1| 10|11.0|  4|    1.0|\n|  5|  3|12.0|  2|    1.0|\n|  4|  9|11.0|  8|    1.0|\n|  5|  1|11.0|  1|    1.0|\n|  4|  9|12.0| 10|    1.0|\n|  5|  8|10.0|  9|    1.0|\n+---+---+----+---+-------+\nonly showing top 20 rows\n\n",
          "name": "stdout"
        }
      ]
    },
    {
      "metadata": {
        "trusted": true
      },
      "cell_type": "code",
      "source": "df.head()",
      "execution_count": 6,
      "outputs": [
        {
          "output_type": "execute_result",
          "execution_count": 6,
          "data": {
            "text/plain": "Row(A=4, B=2, C=12.0, D=3, Spoiled=1.0)"
          },
          "metadata": {}
        }
      ]
    },
    {
      "metadata": {
        "trusted": true
      },
      "cell_type": "code",
      "source": "df.describe().show()",
      "execution_count": 7,
      "outputs": [
        {
          "output_type": "stream",
          "text": "+-------+------------------+------------------+------------------+------------------+-------------------+\n|summary|                 A|                 B|                 C|                 D|            Spoiled|\n+-------+------------------+------------------+------------------+------------------+-------------------+\n|  count|               490|               490|               490|               490|                490|\n|   mean|  5.53469387755102| 5.504081632653061| 9.126530612244897| 5.579591836734694| 0.2857142857142857|\n| stddev|2.9515204234399057|2.8537966089662063|2.0555451971054275|2.8548369309982857|0.45221563164613465|\n|    min|                 1|                 1|               5.0|                 1|                0.0|\n|    max|                10|                10|              14.0|                10|                1.0|\n+-------+------------------+------------------+------------------+------------------+-------------------+\n\n",
          "name": "stdout"
        }
      ]
    },
    {
      "metadata": {
        "trusted": true
      },
      "cell_type": "code",
      "source": "from pyspark.ml.linalg import Vectors\nfrom pyspark.ml.feature import VectorAssembler",
      "execution_count": 9,
      "outputs": []
    },
    {
      "metadata": {
        "trusted": true
      },
      "cell_type": "code",
      "source": "df.columns",
      "execution_count": 10,
      "outputs": [
        {
          "output_type": "execute_result",
          "execution_count": 10,
          "data": {
            "text/plain": "['A', 'B', 'C', 'D', 'Spoiled']"
          },
          "metadata": {}
        }
      ]
    },
    {
      "metadata": {
        "trusted": true
      },
      "cell_type": "code",
      "source": "assembler = VectorAssembler(inputCols=['A', 'B', 'C', 'D'],\n                          outputCol='features')",
      "execution_count": 12,
      "outputs": []
    },
    {
      "metadata": {
        "trusted": true
      },
      "cell_type": "code",
      "source": "output = assembler.transform(df)",
      "execution_count": 13,
      "outputs": []
    },
    {
      "metadata": {
        "trusted": true
      },
      "cell_type": "code",
      "source": "from pyspark.ml.classification import RandomForestClassifier,DecisionTreeClassifier",
      "execution_count": 14,
      "outputs": []
    },
    {
      "metadata": {
        "trusted": true
      },
      "cell_type": "code",
      "source": "rfc = DecisionTreeClassifier(featuresCol='features', labelCol='Spoiled')",
      "execution_count": 16,
      "outputs": []
    },
    {
      "metadata": {
        "trusted": true
      },
      "cell_type": "code",
      "source": "output.printSchema()",
      "execution_count": 17,
      "outputs": [
        {
          "output_type": "stream",
          "text": "root\n |-- A: integer (nullable = true)\n |-- B: integer (nullable = true)\n |-- C: double (nullable = true)\n |-- D: integer (nullable = true)\n |-- Spoiled: double (nullable = true)\n |-- features: vector (nullable = true)\n\n",
          "name": "stdout"
        }
      ]
    },
    {
      "metadata": {
        "trusted": true
      },
      "cell_type": "code",
      "source": "final_data = output.select('features','Spoiled')",
      "execution_count": 18,
      "outputs": []
    },
    {
      "metadata": {
        "trusted": true
      },
      "cell_type": "code",
      "source": "final_data.head()",
      "execution_count": 27,
      "outputs": [
        {
          "output_type": "execute_result",
          "execution_count": 27,
          "data": {
            "text/plain": "Row(features=DenseVector([4.0, 2.0, 12.0, 3.0]), Spoiled=1.0)"
          },
          "metadata": {}
        }
      ]
    },
    {
      "metadata": {
        "trusted": true
      },
      "cell_type": "code",
      "source": "rfc_model = rfc.fit(final_data)",
      "execution_count": 28,
      "outputs": []
    },
    {
      "metadata": {
        "trusted": true
      },
      "cell_type": "code",
      "source": "rfc_model.featureImportances",
      "execution_count": 29,
      "outputs": [
        {
          "output_type": "execute_result",
          "execution_count": 29,
          "data": {
            "text/plain": "SparseVector(4, {1: 0.0019, 2: 0.9832, 3: 0.0149})"
          },
          "metadata": {}
        }
      ]
    },
    {
      "metadata": {
        "trusted": true
      },
      "cell_type": "code",
      "source": "",
      "execution_count": null,
      "outputs": []
    }
  ],
  "metadata": {
    "kernelspec": {
      "name": "python36",
      "display_name": "Python 3.6",
      "language": "python"
    },
    "language_info": {
      "mimetype": "text/x-python",
      "nbconvert_exporter": "python",
      "name": "python",
      "pygments_lexer": "ipython3",
      "version": "3.6.6",
      "file_extension": ".py",
      "codemirror_mode": {
        "version": 3,
        "name": "ipython"
      }
    }
  },
  "nbformat": 4,
  "nbformat_minor": 2
}